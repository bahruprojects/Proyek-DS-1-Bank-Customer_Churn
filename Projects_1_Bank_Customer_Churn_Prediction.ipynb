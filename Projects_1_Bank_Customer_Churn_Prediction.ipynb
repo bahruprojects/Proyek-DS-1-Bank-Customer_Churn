{
 "cells": [
  {
   "cell_type": "code",
   "execution_count": 153,
   "id": "419880c9",
   "metadata": {},
   "outputs": [],
   "source": [
    "import pandas as pd\n",
    "import numpy as np\n",
    "import matplotlib.pyplot as plt\n",
    "import seaborn as sns\n",
    "from sklearn.preprocessing import StandardScaler, LabelEncoder\n",
    "from sklearn.model_selection import train_test_split\n",
    "from sklearn.tree import DecisionTreeClassifier\n",
    "from sklearn.ensemble import RandomForestClassifier\n",
    "from sklearn.neighbors import KNeighborsClassifier\n",
    "from sklearn.metrics import accuracy_score, classification_report, confusion_matrix, precision_score, recall_score, f1_score\n",
    "from sklearn.metrics import roc_curve, auc"
   ]
  },
  {
   "cell_type": "code",
   "execution_count": 154,
   "id": "a8066520",
   "metadata": {},
   "outputs": [
    {
     "name": "stdout",
     "output_type": "stream",
     "text": [
      "1. Membaca Dataset\n"
     ]
    },
    {
     "data": {
      "text/html": [
       "<div>\n",
       "<style scoped>\n",
       "    .dataframe tbody tr th:only-of-type {\n",
       "        vertical-align: middle;\n",
       "    }\n",
       "\n",
       "    .dataframe tbody tr th {\n",
       "        vertical-align: top;\n",
       "    }\n",
       "\n",
       "    .dataframe thead th {\n",
       "        text-align: right;\n",
       "    }\n",
       "</style>\n",
       "<table border=\"1\" class=\"dataframe\">\n",
       "  <thead>\n",
       "    <tr style=\"text-align: right;\">\n",
       "      <th></th>\n",
       "      <th>customer_id</th>\n",
       "      <th>credit_score</th>\n",
       "      <th>age</th>\n",
       "      <th>tenure</th>\n",
       "      <th>balance</th>\n",
       "      <th>products_number</th>\n",
       "      <th>credit_card</th>\n",
       "      <th>active_member</th>\n",
       "      <th>estimated_salary</th>\n",
       "      <th>churn</th>\n",
       "    </tr>\n",
       "  </thead>\n",
       "  <tbody>\n",
       "    <tr>\n",
       "      <th>0</th>\n",
       "      <td>15647311</td>\n",
       "      <td>608</td>\n",
       "      <td>41</td>\n",
       "      <td>1</td>\n",
       "      <td>83807.86</td>\n",
       "      <td>1</td>\n",
       "      <td>0</td>\n",
       "      <td>1</td>\n",
       "      <td>112542.58</td>\n",
       "      <td>0</td>\n",
       "    </tr>\n",
       "    <tr>\n",
       "      <th>1</th>\n",
       "      <td>15701354</td>\n",
       "      <td>699</td>\n",
       "      <td>39</td>\n",
       "      <td>1</td>\n",
       "      <td>0.00</td>\n",
       "      <td>2</td>\n",
       "      <td>0</td>\n",
       "      <td>0</td>\n",
       "      <td>93826.63</td>\n",
       "      <td>0</td>\n",
       "    </tr>\n",
       "    <tr>\n",
       "      <th>2</th>\n",
       "      <td>15737888</td>\n",
       "      <td>850</td>\n",
       "      <td>43</td>\n",
       "      <td>2</td>\n",
       "      <td>125510.82</td>\n",
       "      <td>1</td>\n",
       "      <td>1</td>\n",
       "      <td>1</td>\n",
       "      <td>79084.10</td>\n",
       "      <td>0</td>\n",
       "    </tr>\n",
       "    <tr>\n",
       "      <th>3</th>\n",
       "      <td>15592531</td>\n",
       "      <td>822</td>\n",
       "      <td>50</td>\n",
       "      <td>7</td>\n",
       "      <td>0.00</td>\n",
       "      <td>2</td>\n",
       "      <td>1</td>\n",
       "      <td>1</td>\n",
       "      <td>10062.80</td>\n",
       "      <td>0</td>\n",
       "    </tr>\n",
       "    <tr>\n",
       "      <th>4</th>\n",
       "      <td>15792365</td>\n",
       "      <td>501</td>\n",
       "      <td>44</td>\n",
       "      <td>4</td>\n",
       "      <td>142051.07</td>\n",
       "      <td>2</td>\n",
       "      <td>0</td>\n",
       "      <td>1</td>\n",
       "      <td>74940.50</td>\n",
       "      <td>0</td>\n",
       "    </tr>\n",
       "  </tbody>\n",
       "</table>\n",
       "</div>"
      ],
      "text/plain": [
       "   customer_id  credit_score  age  tenure    balance  products_number  \\\n",
       "0     15647311           608   41       1   83807.86                1   \n",
       "1     15701354           699   39       1       0.00                2   \n",
       "2     15737888           850   43       2  125510.82                1   \n",
       "3     15592531           822   50       7       0.00                2   \n",
       "4     15792365           501   44       4  142051.07                2   \n",
       "\n",
       "   credit_card  active_member  estimated_salary  churn  \n",
       "0            0              1         112542.58      0  \n",
       "1            0              0          93826.63      0  \n",
       "2            1              1          79084.10      0  \n",
       "3            1              1          10062.80      0  \n",
       "4            0              1          74940.50      0  "
      ]
     },
     "execution_count": 154,
     "metadata": {},
     "output_type": "execute_result"
    }
   ],
   "source": [
    "# 1. Membaca dataset\n",
    "print(\"1. Membaca Dataset\")\n",
    "df = pd.read_csv(\"Bank Customer Churn Prediction Cleaned.csv\")\n",
    "df = df.drop(['gender', 'country'], axis=1)\n",
    "df.head(5)"
   ]
  },
  {
   "cell_type": "code",
   "execution_count": 155,
   "id": "5620a1e7",
   "metadata": {},
   "outputs": [
    {
     "name": "stdout",
     "output_type": "stream",
     "text": [
      "Ukuran dataset awal: (7677, 10)\n",
      "\n",
      "Info dataset:\n",
      "<class 'pandas.core.frame.DataFrame'>\n",
      "RangeIndex: 7677 entries, 0 to 7676\n",
      "Data columns (total 10 columns):\n",
      " #   Column            Non-Null Count  Dtype  \n",
      "---  ------            --------------  -----  \n",
      " 0   customer_id       7677 non-null   int64  \n",
      " 1   credit_score      7677 non-null   int64  \n",
      " 2   age               7677 non-null   int64  \n",
      " 3   tenure            7677 non-null   int64  \n",
      " 4   balance           7677 non-null   float64\n",
      " 5   products_number   7677 non-null   int64  \n",
      " 6   credit_card       7677 non-null   int64  \n",
      " 7   active_member     7677 non-null   int64  \n",
      " 8   estimated_salary  7677 non-null   float64\n",
      " 9   churn             7677 non-null   int64  \n",
      "dtypes: float64(2), int64(8)\n",
      "memory usage: 599.9 KB\n",
      "None\n"
     ]
    }
   ],
   "source": [
    "print(\"Ukuran dataset awal:\", df.shape)\n",
    "print(\"\\nInfo dataset:\")\n",
    "print(df.info())"
   ]
  },
  {
   "cell_type": "code",
   "execution_count": 156,
   "id": "f377ebe3",
   "metadata": {},
   "outputs": [
    {
     "name": "stdout",
     "output_type": "stream",
     "text": [
      "\n",
      "2. Pengecekan Data Duplikat\n",
      "Jumlah data duplikat: 0\n",
      "Ukuran dataset setelah menghapus duplikat: (7677, 10)\n"
     ]
    }
   ],
   "source": [
    "# 2. Mendeteksi dan menangani data duplikat\n",
    "print(\"\\n2. Pengecekan Data Duplikat\")\n",
    "duplicates = df.duplicated().sum()\n",
    "print(\"Jumlah data duplikat:\", duplicates)\n",
    "if duplicates > 0:\n",
    "    df = df.drop_duplicates()\n",
    "    print(\"Data duplikat telah dihapus\")\n",
    "print(\"Ukuran dataset setelah menghapus duplikat:\", df.shape)"
   ]
  },
  {
   "cell_type": "code",
   "execution_count": 157,
   "id": "e17bf7ed",
   "metadata": {},
   "outputs": [
    {
     "name": "stdout",
     "output_type": "stream",
     "text": [
      "\n",
      "3. Pengecekan Missing Values\n",
      "Jumlah missing values per kolom:\n",
      "customer_id         0\n",
      "credit_score        0\n",
      "age                 0\n",
      "tenure              0\n",
      "balance             0\n",
      "products_number     0\n",
      "credit_card         0\n",
      "active_member       0\n",
      "estimated_salary    0\n",
      "churn               0\n",
      "dtype: int64\n",
      "Ukuran dataset setelah menghapus missing values: (7677, 10)\n"
     ]
    }
   ],
   "source": [
    "# 3. Mendeteksi dan menangani missing values\n",
    "print(\"\\n3. Pengecekan Missing Values\")\n",
    "missing_values = df.isnull().sum()\n",
    "print(\"Jumlah missing values per kolom:\")\n",
    "print(missing_values)\n",
    "if missing_values.sum() > 0:\n",
    "    df = df.dropna()\n",
    "    print(\"Missing values telah dihapus\")\n",
    "print(\"Ukuran dataset setelah menghapus missing values:\", df.shape)"
   ]
  },
  {
   "cell_type": "code",
   "execution_count": 158,
   "id": "c1710317",
   "metadata": {},
   "outputs": [
    {
     "name": "stdout",
     "output_type": "stream",
     "text": [
      "\n",
      "4. Penanganan Outliers\n",
      "Box plots sebelum penanganan outliers:\n"
     ]
    },
    {
     "data": {
      "image/png": "[encoded data removed]",
      "text/plain": [
       "<Figure size 1500x500 with 1 Axes>"
      ]
     },
     "metadata": {},
     "output_type": "display_data"
    }
   ],
   "source": [
    "# 4. Mendeteksi dan menangani outliers menggunakan IQR method\n",
    "print(\"\\n4. Penanganan Outliers\")\n",
    "numerical_cols = ['credit_score', 'age', 'tenure', 'balance', 'estimated_salary']\n",
    "\n",
    "plt.figure(figsize=(15, 5))\n",
    "print(\"Box plots sebelum penanganan outliers:\")\n",
    "sns.boxplot(data=df[numerical_cols])\n",
    "plt.xticks(rotation=90)\n",
    "plt.title(\"Box Plot Sebelum Penanganan Outliers\")\n",
    "plt.tight_layout()\n",
    "plt.show()"
   ]
  },
  {
   "cell_type": "code",
   "execution_count": 159,
   "id": "ee0963cf",
   "metadata": {},
   "outputs": [
    {
     "name": "stdout",
     "output_type": "stream",
     "text": [
      "\n",
      "Ukuran dataset setelah menghapus outliers: (7477, 10)\n",
      "Box plots setelah penanganan outliers:\n"
     ]
    },
    {
     "data": {
      "image/png": "[encoded data removed]",
      "text/plain": [
       "<Figure size 1500x500 with 1 Axes>"
      ]
     },
     "metadata": {},
     "output_type": "display_data"
    }
   ],
   "source": [
    "# Fungsi untuk mendeteksi outliers\n",
    "def remove_outliers(df, columns):\n",
    "    df_clean = df.copy()\n",
    "    for col in columns:\n",
    "        Q1 = df_clean[col].quantile(0.25)\n",
    "        Q3 = df_clean[col].quantile(0.75)\n",
    "        IQR = Q3 - Q1\n",
    "        lower_bound = Q1 - 1.5 * IQR\n",
    "        upper_bound = Q3 + 1.5 * IQR\n",
    "        df_clean = df_clean[(df_clean[col] >= lower_bound) & (df_clean[col] <= upper_bound)]\n",
    "    return df_clean\n",
    "\n",
    "df_no_outliers = remove_outliers(df, numerical_cols)\n",
    "print(\"\\nUkuran dataset setelah menghapus outliers:\", df_no_outliers.shape)\n",
    "\n",
    "plt.figure(figsize=(15, 5))\n",
    "print(\"Box plots setelah penanganan outliers:\")\n",
    "sns.boxplot(data=df_no_outliers[numerical_cols])\n",
    "plt.xticks(rotation=90)\n",
    "plt.title(\"Box Plot Setelah Penanganan Outliers\")\n",
    "plt.tight_layout()\n",
    "plt.show()"
   ]
  },
  {
   "cell_type": "code",
   "execution_count": 160,
   "id": "1a67fe8b",
   "metadata": {},
   "outputs": [],
   "source": [
    "# 5. Encoding kolom kategorikal\n",
    "# print(\"\\n5. Encoding Data Kategorikal\")\n",
    "# le = LabelEncoder()\n",
    "# df_no_outliers['gender'] = le.fit_transform(df_no_outliers['gender'])\n",
    "# df_no_outliers = pd.get_dummies(df_no_outliers, columns=['country'])"
   ]
  },
  {
   "cell_type": "code",
   "execution_count": 161,
   "id": "7846fac6",
   "metadata": {},
   "outputs": [],
   "source": [
    "# 6. Standardisasi fitur numerik\n",
    "# print(\"\\n6. Standardisasi Fitur Numerik\")\n",
    "# scaler = StandardScaler()\n",
    "# df_no_outliers[numerical_cols] = scaler.fit_transform(df_no_outliers[numerical_cols])"
   ]
  },
  {
   "cell_type": "code",
   "execution_count": 162,
   "id": "892f2bfb",
   "metadata": {},
   "outputs": [
    {
     "data": {
      "image/png": "[encoded data removed]",
      "text/plain": [
       "<Figure size 1500x1000 with 5 Axes>"
      ]
     },
     "metadata": {},
     "output_type": "display_data"
    }
   ],
   "source": [
    "# 7. Visualisasi histogram sebelum dan sesudah preprocessing\n",
    "plt.figure(figsize=(15, 10))\n",
    "for i, col in enumerate(numerical_cols, 1):\n",
    "    plt.subplot(2, 3, i)\n",
    "    plt.hist(df[col], bins=30, alpha=0.5, label='Sebelum')\n",
    "    plt.hist(df_no_outliers[col], bins=30, alpha=0.5, label='Sesudah')\n",
    "    plt.title(f'Histogram {col}')\n",
    "    plt.legend()\n",
    "plt.tight_layout()\n",
    "plt.show()"
   ]
  },
  {
   "cell_type": "code",
   "execution_count": 163,
   "id": "432e3e9f",
   "metadata": {},
   "outputs": [
    {
     "name": "stdout",
     "output_type": "stream",
     "text": [
      "\n",
      "7. Menyimpan Dataset Hasil Preprocessing\n",
      "Dataset telah disimpan sebagai 'Bank Customer Churn Prediction Pre-Processed.csv'\n"
     ]
    }
   ],
   "source": [
    "# 8. Menyimpan dataset yang telah dipreprocessing\n",
    "print(\"\\n7. Menyimpan Dataset Hasil Preprocessing\")\n",
    "df_no_outliers.to_csv(\"Bank Customer Churn Prediction Pre-Processed.csv\", index=False)\n",
    "print(\"Dataset telah disimpan sebagai 'Bank Customer Churn Prediction Pre-Processed.csv'\")"
   ]
  },
  {
   "cell_type": "code",
   "execution_count": 164,
   "id": "03681f0b",
   "metadata": {},
   "outputs": [
    {
     "name": "stdout",
     "output_type": "stream",
     "text": [
      "\n",
      "8. Membaca Dataset Hasil Preprocessing\n",
      "Ukuran dataset setelah preprocessing: (7477, 10)\n"
     ]
    }
   ],
   "source": [
    "# 9. Membaca kembali dataset yang telah dipreprocessing\n",
    "print(\"\\n8. Membaca Dataset Hasil Preprocessing\")\n",
    "df_processed = pd.read_csv(\"Bank Customer Churn Prediction Pre-Processed.csv\")\n",
    "print(\"Ukuran dataset setelah preprocessing:\", df_processed.shape)"
   ]
  },
  {
   "cell_type": "code",
   "execution_count": 165,
   "id": "7b8478ab",
   "metadata": {},
   "outputs": [
    {
     "data": {
      "text/html": [
       "<div>\n",
       "<style scoped>\n",
       "    .dataframe tbody tr th:only-of-type {\n",
       "        vertical-align: middle;\n",
       "    }\n",
       "\n",
       "    .dataframe tbody tr th {\n",
       "        vertical-align: top;\n",
       "    }\n",
       "\n",
       "    .dataframe thead th {\n",
       "        text-align: right;\n",
       "    }\n",
       "</style>\n",
       "<table border=\"1\" class=\"dataframe\">\n",
       "  <thead>\n",
       "    <tr style=\"text-align: right;\">\n",
       "      <th></th>\n",
       "      <th>credit_score</th>\n",
       "      <th>age</th>\n",
       "      <th>tenure</th>\n",
       "      <th>balance</th>\n",
       "      <th>products_number</th>\n",
       "      <th>credit_card</th>\n",
       "      <th>active_member</th>\n",
       "      <th>estimated_salary</th>\n",
       "      <th>churn</th>\n",
       "    </tr>\n",
       "  </thead>\n",
       "  <tbody>\n",
       "    <tr>\n",
       "      <th>0</th>\n",
       "      <td>608</td>\n",
       "      <td>41</td>\n",
       "      <td>1</td>\n",
       "      <td>83807.86</td>\n",
       "      <td>1</td>\n",
       "      <td>0</td>\n",
       "      <td>1</td>\n",
       "      <td>112542.58</td>\n",
       "      <td>0</td>\n",
       "    </tr>\n",
       "    <tr>\n",
       "      <th>1</th>\n",
       "      <td>699</td>\n",
       "      <td>39</td>\n",
       "      <td>1</td>\n",
       "      <td>0.00</td>\n",
       "      <td>2</td>\n",
       "      <td>0</td>\n",
       "      <td>0</td>\n",
       "      <td>93826.63</td>\n",
       "      <td>0</td>\n",
       "    </tr>\n",
       "    <tr>\n",
       "      <th>2</th>\n",
       "      <td>850</td>\n",
       "      <td>43</td>\n",
       "      <td>2</td>\n",
       "      <td>125510.82</td>\n",
       "      <td>1</td>\n",
       "      <td>1</td>\n",
       "      <td>1</td>\n",
       "      <td>79084.10</td>\n",
       "      <td>0</td>\n",
       "    </tr>\n",
       "    <tr>\n",
       "      <th>3</th>\n",
       "      <td>822</td>\n",
       "      <td>50</td>\n",
       "      <td>7</td>\n",
       "      <td>0.00</td>\n",
       "      <td>2</td>\n",
       "      <td>1</td>\n",
       "      <td>1</td>\n",
       "      <td>10062.80</td>\n",
       "      <td>0</td>\n",
       "    </tr>\n",
       "    <tr>\n",
       "      <th>4</th>\n",
       "      <td>501</td>\n",
       "      <td>44</td>\n",
       "      <td>4</td>\n",
       "      <td>142051.07</td>\n",
       "      <td>2</td>\n",
       "      <td>0</td>\n",
       "      <td>1</td>\n",
       "      <td>74940.50</td>\n",
       "      <td>0</td>\n",
       "    </tr>\n",
       "    <tr>\n",
       "      <th>...</th>\n",
       "      <td>...</td>\n",
       "      <td>...</td>\n",
       "      <td>...</td>\n",
       "      <td>...</td>\n",
       "      <td>...</td>\n",
       "      <td>...</td>\n",
       "      <td>...</td>\n",
       "      <td>...</td>\n",
       "      <td>...</td>\n",
       "    </tr>\n",
       "    <tr>\n",
       "      <th>7472</th>\n",
       "      <td>644</td>\n",
       "      <td>28</td>\n",
       "      <td>7</td>\n",
       "      <td>155060.41</td>\n",
       "      <td>1</td>\n",
       "      <td>1</td>\n",
       "      <td>0</td>\n",
       "      <td>29179.52</td>\n",
       "      <td>0</td>\n",
       "    </tr>\n",
       "    <tr>\n",
       "      <th>7473</th>\n",
       "      <td>800</td>\n",
       "      <td>29</td>\n",
       "      <td>2</td>\n",
       "      <td>0.00</td>\n",
       "      <td>2</td>\n",
       "      <td>0</td>\n",
       "      <td>0</td>\n",
       "      <td>167773.55</td>\n",
       "      <td>0</td>\n",
       "    </tr>\n",
       "    <tr>\n",
       "      <th>7474</th>\n",
       "      <td>771</td>\n",
       "      <td>39</td>\n",
       "      <td>5</td>\n",
       "      <td>0.00</td>\n",
       "      <td>2</td>\n",
       "      <td>1</td>\n",
       "      <td>0</td>\n",
       "      <td>96270.64</td>\n",
       "      <td>0</td>\n",
       "    </tr>\n",
       "    <tr>\n",
       "      <th>7475</th>\n",
       "      <td>516</td>\n",
       "      <td>35</td>\n",
       "      <td>10</td>\n",
       "      <td>57369.61</td>\n",
       "      <td>1</td>\n",
       "      <td>1</td>\n",
       "      <td>1</td>\n",
       "      <td>101699.77</td>\n",
       "      <td>0</td>\n",
       "    </tr>\n",
       "    <tr>\n",
       "      <th>7476</th>\n",
       "      <td>792</td>\n",
       "      <td>28</td>\n",
       "      <td>4</td>\n",
       "      <td>130142.79</td>\n",
       "      <td>1</td>\n",
       "      <td>1</td>\n",
       "      <td>0</td>\n",
       "      <td>38190.78</td>\n",
       "      <td>0</td>\n",
       "    </tr>\n",
       "  </tbody>\n",
       "</table>\n",
       "<p>7477 rows × 9 columns</p>\n",
       "</div>"
      ],
      "text/plain": [
       "      credit_score  age  tenure    balance  products_number  credit_card  \\\n",
       "0              608   41       1   83807.86                1            0   \n",
       "1              699   39       1       0.00                2            0   \n",
       "2              850   43       2  125510.82                1            1   \n",
       "3              822   50       7       0.00                2            1   \n",
       "4              501   44       4  142051.07                2            0   \n",
       "...            ...  ...     ...        ...              ...          ...   \n",
       "7472           644   28       7  155060.41                1            1   \n",
       "7473           800   29       2       0.00                2            0   \n",
       "7474           771   39       5       0.00                2            1   \n",
       "7475           516   35      10   57369.61                1            1   \n",
       "7476           792   28       4  130142.79                1            1   \n",
       "\n",
       "      active_member  estimated_salary  churn  \n",
       "0                 1         112542.58      0  \n",
       "1                 0          93826.63      0  \n",
       "2                 1          79084.10      0  \n",
       "3                 1          10062.80      0  \n",
       "4                 1          74940.50      0  \n",
       "...             ...               ...    ...  \n",
       "7472              0          29179.52      0  \n",
       "7473              0         167773.55      0  \n",
       "7474              0          96270.64      0  \n",
       "7475              1         101699.77      0  \n",
       "7476              0          38190.78      0  \n",
       "\n",
       "[7477 rows x 9 columns]"
      ]
     },
     "execution_count": 165,
     "metadata": {},
     "output_type": "execute_result"
    }
   ],
   "source": [
    "df = df_processed.drop(['customer_id'], axis=1)\n",
    "df"
   ]
  },
  {
   "cell_type": "code",
   "execution_count": 166,
   "id": "cc2b378b",
   "metadata": {},
   "outputs": [
    {
     "name": "stdout",
     "output_type": "stream",
     "text": [
      "Semua model telah dilatih dengan data latih.\n"
     ]
    }
   ],
   "source": [
    "# 3. Memisahkan fitur (X) dan target (y)\n",
    "#    Fitur yang digunakan adalah semua kolom kecuali 'churn' yang merupakan target.\n",
    "X = df.drop(['churn'], axis=1)\n",
    "y = df['churn']\n",
    "\n",
    "# 4. Tahap Data Splitting:\n",
    "#    Memisahkan data menjadi training set dan test set dengan perbandingan misal 90% data latih dan 10% data uji.\n",
    "X_train, X_test, y_train, y_test = train_test_split(X, y, test_size=0.1, random_state=42)\n",
    "\n",
    "# 5. Inisialisasi model klasifikasi\n",
    "#    b. Decision Tree\n",
    "dtree = DecisionTreeClassifier(random_state=42)\n",
    "\n",
    "#    c. Random Forest\n",
    "rf = RandomForestClassifier(random_state=42)\n",
    "\n",
    "#    d. K-Nearest Neighbors (KNN)\n",
    "knn = KNeighborsClassifier()\n",
    "\n",
    "# 6. Melatih (fit) model-model tersebut menggunakan data latih\n",
    "dtree.fit(X_train, y_train)\n",
    "rf.fit(X_train, y_train)\n",
    "knn.fit(X_train, y_train)\n",
    "\n",
    "# Opsional: Cetak pesan untuk menandakan bahwa pelatihan sudah selesai.\n",
    "print(\"Semua model telah dilatih dengan data latih.\")"
   ]
  },
  {
   "cell_type": "code",
   "execution_count": 167,
   "id": "51c060b9",
   "metadata": {},
   "outputs": [
    {
     "name": "stdout",
     "output_type": "stream",
     "text": [
      "KNN Model:\n",
      "  Accuracy: 1.0000\n",
      "  Precision: 1.0000\n",
      "\n",
      "Decision Tree Model:\n",
      "  Accuracy: 1.0000\n",
      "  Precision: 1.0000\n",
      "\n",
      "Random Forest Model:\n",
      "  Accuracy: 1.0000\n",
      "  Precision: 1.0000\n",
      "\n"
     ]
    }
   ],
   "source": [
    "# Standardize features for KNN\n",
    "scaler = StandardScaler()\n",
    "X_train_scaled = scaler.fit_transform(X_train)\n",
    "X_test_scaled = scaler.transform(X_test)\n",
    "\n",
    "# Initialize models\n",
    "models = {\n",
    "    \"KNN\": KNeighborsClassifier(n_neighbors=5),\n",
    "    \"Decision Tree\": DecisionTreeClassifier(random_state=42),\n",
    "    \"Random Forest\": RandomForestClassifier(n_estimators=100, random_state=42)\n",
    "}\n",
    "\n",
    "# Train and evaluate models\n",
    "for name, model in models.items():\n",
    "    if name == \"KNN\":\n",
    "        model.fit(X_train_scaled, y_train)\n",
    "        y_pred = model.predict(X_test_scaled)\n",
    "    else:\n",
    "        model.fit(X_train, y_train)\n",
    "        y_pred = model.predict(X_test)\n",
    "    \n",
    "    accuracy = accuracy_score(y_test, y_pred)\n",
    "    precision = precision_score(y_test, y_pred, average='macro')  # Macro for multi-class\n",
    "    \n",
    "    print(f\"{name} Model:\")\n",
    "    print(f\"  Accuracy: {accuracy:.4f}\")\n",
    "    print(f\"  Precision: {precision:.4f}\\n\")\n"
   ]
  },
  {
   "cell_type": "markdown",
   "id": "dbe80d4d",
   "metadata": {},
   "source": [
    "# Memprediksi nilai output (churn) untuk data input baru.\n",
    "# Misal: kita memiliki data input baru sebagai berikut:\n",
    "# credit_score: 600,   age: 40, tenure: 3,\n",
    "# balance: 60000, products_number: 2, credit_card: 1, active_member: 1, estimated_salary: 50000"
   ]
  },
  {
   "cell_type": "code",
   "execution_count": 168,
   "id": "73be45df",
   "metadata": {},
   "outputs": [],
   "source": [
    "# Buat data input baru dalam bentuk dictionary\n",
    "new_input = {\n",
    "    'credit_score': 0,\n",
    "    'age': 40,\n",
    "    'tenure': 3,\n",
    "    'balance': 0,\n",
    "    'products_number': 2,\n",
    "    'credit_card': 1,\n",
    "    'active_member': 1,\n",
    "    'estimated_salary': 0,\n",
    "}\n",
    "\n",
    "# Ubah data input menjadi DataFrame\n",
    "new_df = pd.DataFrame([new_input])\n",
    "\n",
    "# Pastikan struktur kolom pada data baru sama dengan fitur yang digunakan saat pelatihan\n",
    "# Jika ada kolom yang hilang, isi dengan nilai 0\n",
    "new_df = new_df.reindex(columns=X_train.columns, fill_value=0)\n",
    "\n",
    "# 8. Menggunakan model-model untuk memprediksi churn\n",
    "pred_dtree  = dtree.predict(new_df)\n",
    "pred_rf     = rf.predict(new_df)\n",
    "pred_knn    = knn.predict(new_df)\n"
   ]
  },
  {
   "cell_type": "code",
   "execution_count": 169,
   "id": "06ddbf87",
   "metadata": {},
   "outputs": [
    {
     "name": "stdout",
     "output_type": "stream",
     "text": [
      "Prediksi churn untuk data input baru:\n",
      " - Decision Tree            : 0\n",
      " - Random Forest            : 0\n",
      " - K-Nearest Neighbors (KNN): 0\n"
     ]
    }
   ],
   "source": [
    "# 9. Menampilkan hasil prediksi\n",
    "print(\"Prediksi churn untuk data input baru:\")\n",
    "print(\" - Decision Tree            :\", pred_dtree[0])\n",
    "print(\" - Random Forest            :\", pred_rf[0])\n",
    "print(\" - K-Nearest Neighbors (KNN):\", pred_knn[0])"
   ]
  }
 ],
 "metadata": {
  "kernelspec": {
   "display_name": "Python 3 (ipykernel)",
   "language": "python",
   "name": "python3"
  },
  "language_info": {
   "codemirror_mode": {
    "name": "ipython",
    "version": 3
   },
   "file_extension": ".py",
   "mimetype": "text/x-python",
   "name": "python",
   "nbconvert_exporter": "python",
   "pygments_lexer": "ipython3",
   "version": "3.11.4"
  }
 },
 "nbformat": 4,
 "nbformat_minor": 5
}
